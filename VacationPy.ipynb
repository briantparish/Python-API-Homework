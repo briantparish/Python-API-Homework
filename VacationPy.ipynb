{
 "cells": [
  {
   "cell_type": "markdown",
   "metadata": {},
   "source": [
    "# VacationPy\n",
    "----\n",
    "\n",
    "#### Note\n",
    "* Instructions have been included for each segment. You do not have to follow them exactly, but they are included to help you think through the steps."
   ]
  },
  {
   "cell_type": "code",
   "execution_count": 43,
   "metadata": {},
   "source": [
    "# Dependencies and Setup\n",
    "import matplotlib.pyplot as plt\n",
    "import pandas as pd\n",
    "import numpy as np\n",
    "import requests\n",
    "import gmaps\n",
    "import os\n",
    "import pprint as pp\n",
    "\n",
    "# Import API key\n",
    "from api_keys import g_key\n"
   ]
  },
  {
   "cell_type": "markdown",
   "metadata": {},
   "source": [
    "### Store Part I results into DataFrame\n",
    "* Load the csv exported in Part I to a DataFrame"
   ]
  },
  {
   "cell_type": "code",
   "execution_count": 19,
   "metadata": {},
   "outputs": [
    {
     "data": {
      "text/html": [
       "<div>\n",
       "<style scoped>\n",
       "    .dataframe tbody tr th:only-of-type {\n",
       "        vertical-align: middle;\n",
       "    }\n",
       "\n",
       "    .dataframe tbody tr th {\n",
       "        vertical-align: top;\n",
       "    }\n",
       "\n",
       "    .dataframe thead th {\n",
       "        text-align: right;\n",
       "    }\n",
       "</style>\n",
       "<table border=\"1\" class=\"dataframe\">\n",
       "  <thead>\n",
       "    <tr style=\"text-align: right;\">\n",
       "      <th></th>\n",
       "      <th>City</th>\n",
       "      <th>Cloudiness</th>\n",
       "      <th>Country</th>\n",
       "      <th>Date</th>\n",
       "      <th>Humidity</th>\n",
       "      <th>Lat</th>\n",
       "      <th>Lng</th>\n",
       "      <th>Max Temp</th>\n",
       "      <th>Wind Speed</th>\n",
       "    </tr>\n",
       "  </thead>\n",
       "  <tbody>\n",
       "    <tr>\n",
       "      <th>0</th>\n",
       "      <td>Arraial do Cabo</td>\n",
       "      <td>75</td>\n",
       "      <td>BR</td>\n",
       "      <td>1586637350</td>\n",
       "      <td>88</td>\n",
       "      <td>-22.97</td>\n",
       "      <td>-42.03</td>\n",
       "      <td>22.15</td>\n",
       "      <td>2.10</td>\n",
       "    </tr>\n",
       "    <tr>\n",
       "      <th>1</th>\n",
       "      <td>Feicheng</td>\n",
       "      <td>0</td>\n",
       "      <td>CN</td>\n",
       "      <td>1586637764</td>\n",
       "      <td>56</td>\n",
       "      <td>35.26</td>\n",
       "      <td>117.97</td>\n",
       "      <td>6.93</td>\n",
       "      <td>2.96</td>\n",
       "    </tr>\n",
       "    <tr>\n",
       "      <th>2</th>\n",
       "      <td>Orlik</td>\n",
       "      <td>100</td>\n",
       "      <td>RU</td>\n",
       "      <td>1586637354</td>\n",
       "      <td>62</td>\n",
       "      <td>52.52</td>\n",
       "      <td>99.83</td>\n",
       "      <td>-3.06</td>\n",
       "      <td>1.67</td>\n",
       "    </tr>\n",
       "    <tr>\n",
       "      <th>3</th>\n",
       "      <td>Rikitea</td>\n",
       "      <td>78</td>\n",
       "      <td>PF</td>\n",
       "      <td>1586637346</td>\n",
       "      <td>74</td>\n",
       "      <td>-23.12</td>\n",
       "      <td>-134.97</td>\n",
       "      <td>25.17</td>\n",
       "      <td>0.60</td>\n",
       "    </tr>\n",
       "    <tr>\n",
       "      <th>4</th>\n",
       "      <td>Ushuaia</td>\n",
       "      <td>75</td>\n",
       "      <td>AR</td>\n",
       "      <td>1586637164</td>\n",
       "      <td>70</td>\n",
       "      <td>-54.80</td>\n",
       "      <td>-68.30</td>\n",
       "      <td>7.15</td>\n",
       "      <td>12.30</td>\n",
       "    </tr>\n",
       "  </tbody>\n",
       "</table>\n",
       "</div>"
      ],
      "text/plain": [
       "              City  Cloudiness Country        Date  Humidity    Lat     Lng  \\\n",
       "0  Arraial do Cabo          75      BR  1586637350        88 -22.97  -42.03   \n",
       "1         Feicheng           0      CN  1586637764        56  35.26  117.97   \n",
       "2            Orlik         100      RU  1586637354        62  52.52   99.83   \n",
       "3          Rikitea          78      PF  1586637346        74 -23.12 -134.97   \n",
       "4          Ushuaia          75      AR  1586637164        70 -54.80  -68.30   \n",
       "\n",
       "   Max Temp  Wind Speed  \n",
       "0     22.15        2.10  \n",
       "1      6.93        2.96  \n",
       "2     -3.06        1.67  \n",
       "3     25.17        0.60  \n",
       "4      7.15       12.30  "
      ]
     },
     "execution_count": 19,
     "metadata": {},
     "output_type": "execute_result"
    }
   ],
   "source": [
    "weather_df = pd.read_csv(\"weather_df.csv\")\n",
    "weather_df.head()"
   ]
  },
  {
   "cell_type": "markdown",
   "metadata": {},
   "source": [
    "### Humidity Heatmap\n",
    "* Configure gmaps.\n",
    "* Use the Lat and Lng as locations and Humidity as the weight.\n",
    "* Add Heatmap layer to map."
   ]
  },
  {
   "cell_type": "code",
   "execution_count": 3,
   "metadata": {},
   "outputs": [],
   "source": [
    "gmaps.configure(api_key=g_key)"
   ]
  },
  {
   "cell_type": "markdown",
   "metadata": {},
   "source": [
    "### Create new DataFrame fitting weather criteria\n",
    "* Narrow down the cities to fit weather conditions.\n",
    "* Drop any rows will null values."
   ]
  },
  {
   "cell_type": "code",
   "execution_count": 70,
   "metadata": {},
   "outputs": [
    {
     "data": {
      "application/vnd.jupyter.widget-view+json": {
       "model_id": "62d9721c9a9a4f0ca26deb20ba63ef60",
       "version_major": 2,
       "version_minor": 0
      },
      "text/plain": [
       "Figure(layout=FigureLayout(border='1px solid black', height='300px', margin='0 auto 0 auto', padding='1px', wi…"
      ]
     },
     "metadata": {},
     "output_type": "display_data"
    }
   ],
   "source": [
    "figure_layout = {\n",
    "    'width': '400px',\n",
    "    'height': '300px',\n",
    "    'border': '1px solid black',\n",
    "    'padding': '1px',\n",
    "    'margin': '0 auto 0 auto'\n",
    "}\n",
    "coordinates = weather_df[[\"Lat\", \"Lng\"]]\n",
    "rating = weather_df[\"Humidity\"].astype(float)\n",
    "rating\n",
    "heat_layer = gmaps.heatmap_layer(coordinates, weights = rating, \n",
    "                                 dissipating=False, max_intensity=100,\n",
    "                                 point_radius=10)\n",
    "\n",
    "fig = gmaps.figure(layout=figure_layout, map_type=\"HYBRID\")  # Assign the marker layer to a variable\n",
    "markers = gmaps.marker_layer(coordinates)\n",
    "\n",
    "fig.add_layer(markers)\n",
    "\n",
    "fig.add_layer(heat_layer)\n",
    "\n",
    "# # Display figure\n",
    "fig"
   ]
  },
  {
   "cell_type": "code",
   "execution_count": 25,
   "metadata": {},
   "outputs": [
    {
     "data": {
      "text/html": [
       "<div>\n",
       "<style scoped>\n",
       "    .dataframe tbody tr th:only-of-type {\n",
       "        vertical-align: middle;\n",
       "    }\n",
       "\n",
       "    .dataframe tbody tr th {\n",
       "        vertical-align: top;\n",
       "    }\n",
       "\n",
       "    .dataframe thead th {\n",
       "        text-align: right;\n",
       "    }\n",
       "</style>\n",
       "<table border=\"1\" class=\"dataframe\">\n",
       "  <thead>\n",
       "    <tr style=\"text-align: right;\">\n",
       "      <th></th>\n",
       "      <th>City</th>\n",
       "      <th>Cloudiness</th>\n",
       "      <th>Country</th>\n",
       "      <th>Date</th>\n",
       "      <th>Humidity</th>\n",
       "      <th>Lat</th>\n",
       "      <th>Lng</th>\n",
       "      <th>Max Temp</th>\n",
       "      <th>Wind Speed</th>\n",
       "    </tr>\n",
       "  </thead>\n",
       "  <tbody>\n",
       "    <tr>\n",
       "      <th>30</th>\n",
       "      <td>Saint George</td>\n",
       "      <td>1</td>\n",
       "      <td>US</td>\n",
       "      <td>1586637238</td>\n",
       "      <td>36</td>\n",
       "      <td>37.10</td>\n",
       "      <td>-113.58</td>\n",
       "      <td>20.15</td>\n",
       "      <td>2.10</td>\n",
       "    </tr>\n",
       "    <tr>\n",
       "      <th>37</th>\n",
       "      <td>Morón</td>\n",
       "      <td>2</td>\n",
       "      <td>AR</td>\n",
       "      <td>1586637779</td>\n",
       "      <td>53</td>\n",
       "      <td>-34.65</td>\n",
       "      <td>-58.62</td>\n",
       "      <td>24.15</td>\n",
       "      <td>3.10</td>\n",
       "    </tr>\n",
       "    <tr>\n",
       "      <th>40</th>\n",
       "      <td>Concepción del Uruguay</td>\n",
       "      <td>0</td>\n",
       "      <td>AR</td>\n",
       "      <td>1586637780</td>\n",
       "      <td>44</td>\n",
       "      <td>-32.48</td>\n",
       "      <td>-58.24</td>\n",
       "      <td>24.59</td>\n",
       "      <td>0.89</td>\n",
       "    </tr>\n",
       "    <tr>\n",
       "      <th>45</th>\n",
       "      <td>Mar del Plata</td>\n",
       "      <td>37</td>\n",
       "      <td>AR</td>\n",
       "      <td>1586637197</td>\n",
       "      <td>56</td>\n",
       "      <td>-38.00</td>\n",
       "      <td>-57.56</td>\n",
       "      <td>22.37</td>\n",
       "      <td>5.70</td>\n",
       "    </tr>\n",
       "  </tbody>\n",
       "</table>\n",
       "</div>"
      ],
      "text/plain": [
       "                      City  Cloudiness Country        Date  Humidity    Lat  \\\n",
       "30            Saint George           1      US  1586637238        36  37.10   \n",
       "37                   Morón           2      AR  1586637779        53 -34.65   \n",
       "40  Concepción del Uruguay           0      AR  1586637780        44 -32.48   \n",
       "45           Mar del Plata          37      AR  1586637197        56 -38.00   \n",
       "\n",
       "       Lng  Max Temp  Wind Speed  \n",
       "30 -113.58     20.15        2.10  \n",
       "37  -58.62     24.15        3.10  \n",
       "40  -58.24     24.59        0.89  \n",
       "45  -57.56     22.37        5.70  "
      ]
     },
     "execution_count": 25,
     "metadata": {},
     "output_type": "execute_result"
    }
   ],
   "source": [
    "ideal_df = weather_df[(weather_df[\"Max Temp\"] > 20) & (weather_df[\"Max Temp\"] < 30)]\n",
    "ideal_df = ideal_df[ideal_df[\"Humidity\"] <= 60]\n",
    "ideal_df = ideal_df[ideal_df[\"Cloudiness\"] < 40]\n",
    "ideal_df #= ideal_df.dropna()"
   ]
  },
  {
   "cell_type": "markdown",
   "metadata": {},
   "source": [
    "### Hotel Map\n",
    "* Store into variable named `hotel_df`.\n",
    "* Add a \"Hotel Name\" column to the DataFrame.\n",
    "* Set parameters to search for hotels with 5000 meters.\n",
    "* Hit the Google Places API for each city's coordinates.\n",
    "* Store the first Hotel result into the DataFrame.\n",
    "* Plot markers on top of the heatmap."
   ]
  },
  {
   "cell_type": "code",
   "execution_count": 57,
   "metadata": {},
   "outputs": [
    {
     "name": "stdout",
     "output_type": "stream",
     "text": [
      "Reading API from https://maps.googleapis.com/maps/api/place/nearbysearch/json\n",
      "added hotel to Saint George\n",
      "added hotel to Morón\n",
      "added hotel to Concepción del Uruguay\n",
      "added hotel to Mar del Plata\n"
     ]
    }
   ],
   "source": [
    "base_url = \"https://maps.googleapis.com/maps/api/place/nearbysearch/json\"\n",
    "print(f\"Reading API from {base_url}\")\n",
    "hotel_df = pd.DataFrame(columns= [\"City\" , \"Hotel Name\", \"Hotel Lat\", \"Hotel Lng\"])\n",
    "for index, location in ideal_df.iterrows():\n",
    "    \n",
    "    lat = location[\"Lat\"]\n",
    "    lng = location[\"Lng\"]\n",
    "    city = location[\"City\"]\n",
    "    \n",
    "    params = {\n",
    "        \"location\": f\"{lat},{lng}\",\n",
    "        \"keyword\": \"Hotel\",\n",
    "        \"radius\": 10000,\n",
    "        \"key\": g_key\n",
    "    }\n",
    "    try:\n",
    "        response_json = requests.get(base_url, params=params).json()\n",
    "        hotel_df = hotel_df.append({\"City\": city,\n",
    "                                    \"Hotel Name\": response_json['results'][0]['name'], \n",
    "                                    \"Hotel Lat\": response_json['results'][0]['geometry']['location']['lat'],\n",
    "                                    \"Hotel Lng\": response_json['results'][0]['geometry']['location']['lng']}, ignore_index=True)\n",
    "        print(f\"added hotel to {city}\")\n",
    "    except: \n",
    "        print(f\"Could not add hotel in {city}\")\n",
    "        #response_json"
   ]
  },
  {
   "cell_type": "code",
   "execution_count": 59,
   "metadata": {},
   "outputs": [
    {
     "data": {
      "text/html": [
       "<div>\n",
       "<style scoped>\n",
       "    .dataframe tbody tr th:only-of-type {\n",
       "        vertical-align: middle;\n",
       "    }\n",
       "\n",
       "    .dataframe tbody tr th {\n",
       "        vertical-align: top;\n",
       "    }\n",
       "\n",
       "    .dataframe thead th {\n",
       "        text-align: right;\n",
       "    }\n",
       "</style>\n",
       "<table border=\"1\" class=\"dataframe\">\n",
       "  <thead>\n",
       "    <tr style=\"text-align: right;\">\n",
       "      <th></th>\n",
       "      <th>City</th>\n",
       "      <th>Cloudiness</th>\n",
       "      <th>Country</th>\n",
       "      <th>Date</th>\n",
       "      <th>Humidity</th>\n",
       "      <th>Lat</th>\n",
       "      <th>Lng</th>\n",
       "      <th>Max Temp</th>\n",
       "      <th>Wind Speed</th>\n",
       "      <th>Hotel Name</th>\n",
       "      <th>Hotel Lat</th>\n",
       "      <th>Hotel Lng</th>\n",
       "    </tr>\n",
       "  </thead>\n",
       "  <tbody>\n",
       "    <tr>\n",
       "      <th>0</th>\n",
       "      <td>Saint George</td>\n",
       "      <td>1</td>\n",
       "      <td>US</td>\n",
       "      <td>1586637238</td>\n",
       "      <td>36</td>\n",
       "      <td>37.10</td>\n",
       "      <td>-113.58</td>\n",
       "      <td>20.15</td>\n",
       "      <td>2.10</td>\n",
       "      <td>Red Lion Hotel &amp; Conference Center St. George</td>\n",
       "      <td>37.093510</td>\n",
       "      <td>-113.586869</td>\n",
       "    </tr>\n",
       "    <tr>\n",
       "      <th>1</th>\n",
       "      <td>Morón</td>\n",
       "      <td>2</td>\n",
       "      <td>AR</td>\n",
       "      <td>1586637779</td>\n",
       "      <td>53</td>\n",
       "      <td>-34.65</td>\n",
       "      <td>-58.62</td>\n",
       "      <td>24.15</td>\n",
       "      <td>3.10</td>\n",
       "      <td>Holiday Inn Buenos Aires Ezeiza Airport</td>\n",
       "      <td>-34.733796</td>\n",
       "      <td>-58.519908</td>\n",
       "    </tr>\n",
       "    <tr>\n",
       "      <th>2</th>\n",
       "      <td>Concepción del Uruguay</td>\n",
       "      <td>0</td>\n",
       "      <td>AR</td>\n",
       "      <td>1586637780</td>\n",
       "      <td>44</td>\n",
       "      <td>-32.48</td>\n",
       "      <td>-58.24</td>\n",
       "      <td>24.59</td>\n",
       "      <td>0.89</td>\n",
       "      <td>Antigua Fonda</td>\n",
       "      <td>-32.487357</td>\n",
       "      <td>-58.233203</td>\n",
       "    </tr>\n",
       "    <tr>\n",
       "      <th>3</th>\n",
       "      <td>Mar del Plata</td>\n",
       "      <td>37</td>\n",
       "      <td>AR</td>\n",
       "      <td>1586637197</td>\n",
       "      <td>56</td>\n",
       "      <td>-38.00</td>\n",
       "      <td>-57.56</td>\n",
       "      <td>22.37</td>\n",
       "      <td>5.70</td>\n",
       "      <td>Sheraton Mar del Plata Hotel</td>\n",
       "      <td>-38.031830</td>\n",
       "      <td>-57.539713</td>\n",
       "    </tr>\n",
       "  </tbody>\n",
       "</table>\n",
       "</div>"
      ],
      "text/plain": [
       "                     City  Cloudiness Country        Date  Humidity    Lat  \\\n",
       "0            Saint George           1      US  1586637238        36  37.10   \n",
       "1                   Morón           2      AR  1586637779        53 -34.65   \n",
       "2  Concepción del Uruguay           0      AR  1586637780        44 -32.48   \n",
       "3           Mar del Plata          37      AR  1586637197        56 -38.00   \n",
       "\n",
       "      Lng  Max Temp  Wind Speed  \\\n",
       "0 -113.58     20.15        2.10   \n",
       "1  -58.62     24.15        3.10   \n",
       "2  -58.24     24.59        0.89   \n",
       "3  -57.56     22.37        5.70   \n",
       "\n",
       "                                      Hotel Name  Hotel Lat   Hotel Lng  \n",
       "0  Red Lion Hotel & Conference Center St. George  37.093510 -113.586869  \n",
       "1        Holiday Inn Buenos Aires Ezeiza Airport -34.733796  -58.519908  \n",
       "2                                  Antigua Fonda -32.487357  -58.233203  \n",
       "3                   Sheraton Mar del Plata Hotel -38.031830  -57.539713  "
      ]
     },
     "execution_count": 59,
     "metadata": {},
     "output_type": "execute_result"
    }
   ],
   "source": [
    "ideal_df = ideal_df.merge(hotel_df)\n",
    "ideal_df"
   ]
  },
  {
   "cell_type": "code",
   "execution_count": 64,
   "metadata": {},
   "outputs": [
    {
     "data": {
      "text/plain": [
       "['\\n<dl>\\n<dt>Name</dt><dd>Red Lion Hotel & Conference Center St. George</dd>\\n<dt>City</dt><dd>Saint George</dd>\\n<dt>Country</dt><dd>US</dd>\\n</dl>\\n',\n",
       " '\\n<dl>\\n<dt>Name</dt><dd>Holiday Inn Buenos Aires Ezeiza Airport</dd>\\n<dt>City</dt><dd>Morón</dd>\\n<dt>Country</dt><dd>AR</dd>\\n</dl>\\n',\n",
       " '\\n<dl>\\n<dt>Name</dt><dd>Antigua Fonda</dd>\\n<dt>City</dt><dd>Concepción del Uruguay</dd>\\n<dt>Country</dt><dd>AR</dd>\\n</dl>\\n',\n",
       " '\\n<dl>\\n<dt>Name</dt><dd>Sheraton Mar del Plata Hotel</dd>\\n<dt>City</dt><dd>Mar del Plata</dd>\\n<dt>Country</dt><dd>AR</dd>\\n</dl>\\n']"
      ]
     },
     "execution_count": 64,
     "metadata": {},
     "output_type": "execute_result"
    }
   ],
   "source": [
    "# NOTE: Do not change any of the code in this cell\n",
    "\n",
    "# Using the template add the hotel marks to the heatmap\n",
    "info_box_template = \"\"\"\n",
    "<dl>\n",
    "<dt>Name</dt><dd>{Hotel Name}</dd>\n",
    "<dt>City</dt><dd>{City}</dd>\n",
    "<dt>Country</dt><dd>{Country}</dd>\n",
    "</dl>\n",
    "\"\"\"\n",
    "# Store the DataFrame Row\n",
    "# NOTE: be sure to update with your DataFrame name\n",
    "hotel_info = [info_box_template.format(**row) for index, row in ideal_df.iterrows()]\n",
    "locations = ideal_df[[\"Hotel Lat\", \"Hotel Lng\"]]"
   ]
  },
  {
   "cell_type": "code",
   "execution_count": 78,
   "metadata": {},
   "outputs": [
    {
     "data": {
      "application/vnd.jupyter.widget-view+json": {
       "model_id": "1a9e23745410498a9fba683165a7a8b6",
       "version_major": 2,
       "version_minor": 0
      },
      "text/plain": [
       "Figure(layout=FigureLayout(border='1px solid black', height='300px', margin='0 auto 0 auto', padding='1px', wi…"
      ]
     },
     "metadata": {},
     "output_type": "display_data"
    }
   ],
   "source": [
    "# Add marker layer ontop of heat map\n",
    "fig = gmaps.figure(layout=figure_layout, map_type=\"HYBRID\")  # Assign the marker layer to a variable\n",
    "markers = gmaps.marker_layer(locations)\n",
    "symbol_layer = gmaps.symbol_layer(\n",
    "            locations, info_box_content=hotel_info)\n",
    "fig.add_layer(markers)\n",
    "heat_layer = gmaps.heatmap_layer(coordinates, weights = weather_df[\"Humidity\"], \n",
    "                                 dissipating=False, max_intensity=100,\n",
    "                                 point_radius=10)\n",
    "fig.add_layer(heat_layer)\n",
    "fig.add_layer(symbol_layer)\n",
    "\n",
    "# Display Map\n",
    "fig"
   ]
  }
 ],
 "metadata": {
  "kernelspec": {
   "display_name": "Python 3",
   "language": "python",
   "name": "python3"
  },
  "language_info": {
   "codemirror_mode": {
    "name": "ipython",
    "version": 3
   },
   "file_extension": ".py",
   "mimetype": "text/x-python",
   "name": "python",
   "nbconvert_exporter": "python",
   "pygments_lexer": "ipython3",
   "version": "3.8.1"
  },
  "latex_envs": {
   "LaTeX_envs_menu_present": true,
   "autoclose": false,
   "autocomplete": true,
   "bibliofile": "biblio.bib",
   "cite_by": "apalike",
   "current_citInitial": 1,
   "eqLabelWithNumbers": true,
   "eqNumInitial": 1,
   "hotkeys": {
    "equation": "Ctrl-E",
    "itemize": "Ctrl-I"
   },
   "labels_anchors": false,
   "latex_user_defs": false,
   "report_style_numbering": false,
   "user_envs_cfg": false
  }
 },
 "nbformat": 4,
 "nbformat_minor": 2
}
